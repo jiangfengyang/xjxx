{
 "cells": [
  {
   "cell_type": "markdown",
   "metadata": {},
   "source": [
    "## 数组程序实现"
   ]
  },
  {
   "cell_type": "markdown",
   "metadata": {},
   "source": [
    "### 数组的基本特征：\n",
    "1. 数组是由相同类型的变量构成的一个序列\n",
    "2. 由数组标识符和下标索引组成\n",
    "3. a[0]被称之为数组的分量（数组元素）\n",
    "### 数组的数据组织方式：\n",
    "1. **逻辑结构**：作为标准的线性表，每一个数据元素的前面和后面都只有一个数据元素与之相邻。\n",
    "2. **物理结构**：使用一块连续的存储空间，每个数组元素按照下标顺序依次存储。(顺序存储结构)\n",
    "    * <font color=\"red\">**二维数组的存储方式：在计算机内存中依旧是顺序存储，有行优先和列优先两种**</font>\n",
    "### 数组的特性：\n",
    "1. 数组元素的数据类型相同\n",
    "2. 通过数组名和下标对数组的值进行访问\n",
    "3. 存储空间固定不变\n",
    "    1. 类型和个数固定不变\n",
    "    2. 数组元素删除后会造成空间浪费（静态数组）\n",
    "       * 如：创建数组a=[0]*100,删去其中50个元素后，原本的50个元素保留，不移作他用\n",
    "---\n",
    "\n"
   ]
  },
  {
   "cell_type": "markdown",
   "metadata": {},
   "source": [
    "一、数组的创建与访问\n",
    "\n",
    "    题：创建长度为16的整数数组a（初始值为0）和4*4的字符串二维数组b（初始值为空）\n"
   ]
  },
  {
   "cell_type": "code",
   "execution_count": 1,
   "metadata": {},
   "outputs": [
    {
     "name": "stdout",
     "output_type": "stream",
     "text": [
      "[[0, 0, 0, 0], [0, 0, 0, 0], [0, 0, 0, 0], [0, 0, 0, 0]]\n"
     ]
    }
   ],
   "source": [
    "a=[0]*16\n",
    "b=[[0]*4 for j in range(4)]\n",
    "b=[[0]*4]*4\n",
    "print(b)"
   ]
  },
  {
   "cell_type": "code",
   "execution_count": null,
   "metadata": {},
   "outputs": [
    {
     "ename": "",
     "evalue": "",
     "output_type": "error",
     "traceback": [
      "\u001b[1;31mCanceled future for execute_request message before replies were done"
     ]
    },
    {
     "ename": "",
     "evalue": "",
     "output_type": "error",
     "traceback": [
      "\u001b[1;31mThe Kernel crashed while executing code in the the current cell or a previous cell. Please review the code in the cell(s) to identify a possible cause of the failure. Click <a href='https://aka.ms/vscodeJupyterKernelCrash'>here</a> for more info. View Jupyter <a href='command:jupyter.viewOutput'>log</a> for further details."
     ]
    }
   ],
   "source": [
    "lis=['']*10\n",
    "a=input().split()\n",
    "lis[:len(a)]=a\n",
    "print(lis)"
   ]
  },
  {
   "cell_type": "markdown",
   "metadata": {},
   "source": [
    "    题：修改数组b的第3行第4列分量为“a”"
   ]
  },
  {
   "cell_type": "code",
   "execution_count": 2,
   "metadata": {},
   "outputs": [
    {
     "name": "stdout",
     "output_type": "stream",
     "text": [
      "[[0, 0, 0, 66], [0, 0, 0, 66], [0, 0, 0, 66], [0, 0, 0, 66]]\n"
     ]
    }
   ],
   "source": [
    "b[2][3]=66\n",
    "print(b)"
   ]
  },
  {
   "cell_type": "markdown",
   "metadata": {},
   "source": []
  },
  {
   "cell_type": "markdown",
   "metadata": {},
   "source": [
    "二、数组的删除\n",
    "\n",
    "    题：已知包含20个分量的整数数组name（数组元素的值为0-19），请输入需要删除的关键字key，完成数组的删除操作，并且保证数组有序"
   ]
  },
  {
   "cell_type": "markdown",
   "metadata": {},
   "source": [
    "* 思路？\n",
    "    * 遍历范围：\n",
    "    * 操作："
   ]
  },
  {
   "cell_type": "code",
   "execution_count": null,
   "metadata": {},
   "outputs": [],
   "source": []
  },
  {
   "cell_type": "markdown",
   "metadata": {},
   "source": [
    "附加题1：若有包含100个随机整数分量（范围为[0,100]）的数组，输入需删除的关键字key，删除数组中所有的key，请完成程序设计"
   ]
  },
  {
   "cell_type": "code",
   "execution_count": null,
   "metadata": {},
   "outputs": [],
   "source": []
  },
  {
   "cell_type": "markdown",
   "metadata": {},
   "source": [
    "三、数组的插入\n",
    "\n",
    "    题：已知包含20个分量的整数数组name（数组元素的值为0-19），请输入需要插入的关键字key，完成数组的插入操作，并且保证数组有序"
   ]
  },
  {
   "cell_type": "markdown",
   "metadata": {},
   "source": [
    "* 思路？\n",
    "    * 遍历范围：\n",
    "    * 操作：\n",
    "    * 插入： "
   ]
  },
  {
   "cell_type": "code",
   "execution_count": null,
   "metadata": {},
   "outputs": [],
   "source": []
  },
  {
   "cell_type": "markdown",
   "metadata": {},
   "source": [
    "    问：能否优化一下流程？"
   ]
  },
  {
   "cell_type": "code",
   "execution_count": null,
   "metadata": {},
   "outputs": [],
   "source": []
  }
 ],
 "metadata": {
  "kernelspec": {
   "display_name": "Python 3.8.6 32-bit",
   "language": "python",
   "name": "python3"
  },
  "language_info": {
   "codemirror_mode": {
    "name": "ipython",
    "version": 3
   },
   "file_extension": ".py",
   "mimetype": "text/x-python",
   "name": "python",
   "nbconvert_exporter": "python",
   "pygments_lexer": "ipython3",
   "version": "3.8.6"
  },
  "orig_nbformat": 4,
  "vscode": {
   "interpreter": {
    "hash": "a55af99ad32e1ca2112648effccfdfdecbe7c6e7a86578b7fbcf69b9de9eede0"
   }
  }
 },
 "nbformat": 4,
 "nbformat_minor": 2
}
